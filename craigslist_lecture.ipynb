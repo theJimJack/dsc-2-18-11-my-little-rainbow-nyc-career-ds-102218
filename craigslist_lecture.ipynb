{
 "cells": [
  {
   "cell_type": "code",
   "execution_count": 1,
   "metadata": {},
   "outputs": [],
   "source": [
    "import requests\n",
    "from bs4 import BeautifulSoup"
   ]
  },
  {
   "cell_type": "code",
   "execution_count": 2,
   "metadata": {},
   "outputs": [],
   "source": [
    "craigslist_request = requests.get(\"https://newyork.craigslist.org/search/hhh?sort=rel&query=new+york+apartment\")"
   ]
  },
  {
   "cell_type": "code",
   "execution_count": 3,
   "metadata": {},
   "outputs": [],
   "source": [
    "craigslist_html  = craigslist_request.text"
   ]
  },
  {
   "cell_type": "code",
   "execution_count": 5,
   "metadata": {},
   "outputs": [],
   "source": [
    "craigslist_soup = BeautifulSoup(craigslist_html)"
   ]
  },
  {
   "cell_type": "code",
   "execution_count": 30,
   "metadata": {},
   "outputs": [],
   "source": [
    "apartments = craigslist_soup.findAll(\"li\",{'class':\"result-row\"})"
   ]
  },
  {
   "cell_type": "code",
   "execution_count": 36,
   "metadata": {},
   "outputs": [
    {
     "data": {
      "text/plain": [
       "<li class=\"result-row\" data-pid=\"6742891477\" data-repost-of=\"6307679068\">\n",
       "<a class=\"result-image gallery\" data-ids=\"1:00K0K_ibpkH2Qyvn5,1:00n0n_heWpmJFpjp,1:00x0x_5mxqTDXkH6C,1:00r0r_9okqyW4FVIf,1:01212_gS40FEki8Vl,1:00h0h_h4mxchanz59,1:01414_gpSEuVlmFbI\" href=\"https://newyork.craigslist.org/mnh/vac/d/looking-for-4-bed-4-bath-new/6742891477.html\">\n",
       "<span class=\"result-price\">$250</span>\n",
       "</a>\n",
       "<p class=\"result-info\">\n",
       "<span class=\"icon icon-star\" role=\"button\">\n",
       "<span class=\"screen-reader-text\">favorite this post</span>\n",
       "</span>\n",
       "<time class=\"result-date\" datetime=\"2018-11-07 11:16\" title=\"Wed 07 Nov 11:16:59 AM\">Nov  7</time>\n",
       "<a class=\"result-title hdrlnk\" data-id=\"6742891477\" href=\"https://newyork.craigslist.org/mnh/vac/d/looking-for-4-bed-4-bath-new/6742891477.html\">Looking For 4 Bed 4 Bath  New York City Apartment</a>\n",
       "<span class=\"result-meta\">\n",
       "<span class=\"result-price\">$250</span>\n",
       "<span class=\"housing\">\n",
       "                    4br -\n",
       "                </span>\n",
       "<span class=\"result-hood\"> (Midtown West)</span>\n",
       "<span class=\"result-tags\">\n",
       "                    pic\n",
       "                    <span class=\"maptag\" data-pid=\"6742891477\">map</span>\n",
       "</span>\n",
       "<span class=\"banish icon icon-trash\" role=\"button\">\n",
       "<span class=\"screen-reader-text\">hide this posting</span>\n",
       "</span>\n",
       "<span aria-hidden=\"true\" class=\"unbanish icon icon-trash red\" role=\"button\"></span>\n",
       "<a class=\"restore-link\" href=\"#\">\n",
       "<span class=\"restore-narrow-text\">restore</span>\n",
       "<span class=\"restore-wide-text\">restore this posting</span>\n",
       "</a>\n",
       "</span>\n",
       "</p>\n",
       "</li>"
      ]
     },
     "execution_count": 36,
     "metadata": {},
     "output_type": "execute_result"
    }
   ],
   "source": [
    "apartments[0]\n",
    "# apartments[0].findall(\"span\",{'class':'result-price'})"
   ]
  },
  {
   "cell_type": "code",
   "execution_count": null,
   "metadata": {},
   "outputs": [],
   "source": [
    "##Jeff's code is available"
   ]
  }
 ],
 "metadata": {
  "kernelspec": {
   "display_name": "Python 3",
   "language": "python",
   "name": "python3"
  },
  "language_info": {
   "codemirror_mode": {
    "name": "ipython",
    "version": 3
   },
   "file_extension": ".py",
   "mimetype": "text/x-python",
   "name": "python",
   "nbconvert_exporter": "python",
   "pygments_lexer": "ipython3",
   "version": "3.7.0"
  }
 },
 "nbformat": 4,
 "nbformat_minor": 2
}
